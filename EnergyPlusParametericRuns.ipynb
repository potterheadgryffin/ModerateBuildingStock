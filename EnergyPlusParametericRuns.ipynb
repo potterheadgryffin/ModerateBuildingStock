{
 "cells": [
  {
   "cell_type": "markdown",
   "id": "d9c757c9-9387-484c-9a11-fea68a3d2c75",
   "metadata": {},
   "source": [
    "Loading the required packages. eppy has the required energyplus functions"
   ]
  },
  {
   "cell_type": "code",
   "execution_count": null,
   "id": "341cb8b8-c964-4167-95c9-b45839df3de2",
   "metadata": {},
   "outputs": [],
   "source": [
    "from eppy import modeleditor\n",
    "from eppy.modeleditor import IDF\n",
    "import pandas as pd\n",
    "import matplotlib.pyplot as plt"
   ]
  },
  {
   "cell_type": "markdown",
   "id": "6894cf0d-c896-4fe3-b7a1-f2cfc3e1f856",
   "metadata": {},
   "source": [
    "Download the energyplus 9.5.0 version and then set the oath to the idd file (located in your local computer)"
   ]
  },
  {
   "cell_type": "code",
   "execution_count": null,
   "id": "b7b3dee7-d287-46c2-83b4-d8433707185d",
   "metadata": {},
   "outputs": [],
   "source": [
    "iddfile = r'EnergyPlusV9-5-0/Energy+.idd' #your path to the IDD file: normally inside your directory where Energy PLus is\n",
    "IDF.setiddname(iddfile)"
   ]
  },
  {
   "cell_type": "markdown",
   "id": "83030d75-4c5d-43a0-a4ff-22ebec9cb4ac",
   "metadata": {},
   "source": [
    "This is a function to parse the date time in the output file"
   ]
  },
  {
   "cell_type": "code",
   "execution_count": null,
   "id": "e1f1a3bb-36f0-42de-b7da-7b1a86d8e564",
   "metadata": {},
   "outputs": [],
   "source": [
    "def parse_energyplus_datetime_string(st, year=2021):\n",
    "    st=st.strip()\n",
    "    month=int(st[0:2])\n",
    "    day=int(st[3:5])\n",
    "    hour=int(st[7:9])\n",
    "    minute=int(st[10:12])\n",
    "    second=(st[13:15])\n",
    "    if not hour==24:\n",
    "        dt=pd.Timestamp(year,month,day,hour,minute)\n",
    "    else:\n",
    "        hour=0\n",
    "        dt=pd.Timestamp(year,month,day,hour,minute)\n",
    "        dt+=pd.Timedelta('1 day')\n",
    "    return dt"
   ]
  },
  {
   "cell_type": "code",
   "execution_count": null,
   "id": "435e2a10-b750-4991-baf5-e6075072efa3",
   "metadata": {},
   "outputs": [],
   "source": [
    "These lines of code run the prametric simulations using EnergyPlus. You can decide the number of simulations N and the paramet"
   ]
  },
  {
   "cell_type": "code",
   "execution_count": null,
   "id": "558dee20-fe58-4d16-8175-f72168411b96",
   "metadata": {},
   "outputs": [],
   "source": [
    "base = r'PVHPSFD.idf' \n",
    "idf1 = IDF(base)\n",
    "\n",
    "windows = idf1.idfobjects[\"WindowMaterial:SimpleGlazingSystem\"]\n",
    "walls = idf1.idfobjects[\"Material\"]\n",
    "people = idf1.idfobjects[\"People\"]\n",
    "lights = idf1.idfobjects[\"Lights\"]\n",
    "electricequip = idf1.idfobjects[\"ElectricEquipment\"]\n",
    "gasequip = idf1.idfobjects[\"GasEquipment\"]\n",
    "dhw = idf1.idfobjects[\"WaterHeater:Mixed\"]\n",
    "sh = idf1.idfobjects[\"Coil:Heating:Fuel\"]\n",
    "\n",
    "from pyDOE import lhs\n",
    "N = 1 #Number of simulations\n",
    "seq = lhs(1, N) # this creates a sequence; the first number is the number of dimensions and the second number is the number of simulations or samples\n",
    "\n",
    "cond = []   #for conductivity\n",
    "elec = pd.DataFrame()   #for electricity consumption\n",
    "gas = pd.DataFrame()    #for heat consumption\n",
    "heat = pd.DataFrame() \n",
    "dhw = pd.DataFrame() \n",
    "pvproduction = pd.DataFrame() \n",
    "    \n",
    "for i in range(N):    #Second loop to create randomized sequences: this runs for the length of number of samples\n",
    "    for SimpleGlazingSystem in windows:\n",
    "        SimpleGlazingSystem.UFactor = 0.5 + seq[i][0]*(3-2.5)\n",
    "    for Conductivity in walls:\n",
    "        walls[11].Conductivity = 0.03186 + seq[i][0]*(0.099-0.080)\n",
    "        walls[15].Conductivity = 0.0365 + seq[i][0]*(0.099-0.080)\n",
    "        walls[16].Conductivity = 0.06009 + seq[i][0]*(0.099-0.080)\n",
    "        walls[17].Conductivity = 0.0463 + seq[i][0]*(0.099-0.080)\n",
    "        walls[21].Conductivity = 0.04577 + seq[i][0]*(0.090-0.080)\n",
    "    for Number_of_People in people:\n",
    "        people[0].Number_of_People = 2 + seq[i][0]*(4-2)\n",
    "    for Mixed in dhw:\n",
    "        dhw.Heater_Thermal_Efficiency = 0.9 + seq[i][0]*(0.80-0.70)\n",
    "    for Heating in sh:\n",
    "        sh.Burner_Efficiency = 0.9 + seq[i][0]*(0.80-0.70)\n",
    "    for Design_Level in gasequip:\n",
    "        gasequip[0].Design_Level = 250 + seq[i][0]*(400-300)\n",
    "        gasequip[1].Design_Level = 350 + seq[i][0]*(400-500)            \n",
    "    for Design_Level in electricequip:\n",
    "        electricequip[0].Design_Level = 40 + seq[i][0]*(80-50)\n",
    "        electricequip[1].Design_Level = 40 + seq[i][0]*(100-80)\n",
    "        electricequip[2].Design_Level = 15 + seq[i][0]*(30-20)\n",
    "        electricequip[3].Design_Level = 200 + seq[i][0]*(25-15)\n",
    "        electricequip[4].Design_Level = 200 + seq[i][0]*(60-40)\n",
    "        electricequip[5].Design_Level = 20 + seq[i][0]*(60-40)\n",
    "    for Watts_per_Zone_Floor_Area in lights:\n",
    "        lights[0].Watts_per_Zone_Floor_Area = 0.70 + seq[i][0]*(1.5-1.3)\n",
    "        lights[1].Watts_per_Zone_Floor_Area = 0.13 + seq[i][0]*(0.99-0.80)\n",
    "    idf1.save()  #Save your modified IDF file| \n",
    "        \n",
    "        \n",
    "    idfname = r'PVHPSFD.idf' #\"path to the new idf\"\n",
    "    epwfile = r'sim\\weatherfile\\3.epw'\n",
    "    od = r'sim\\od'\n",
    "    idf = IDF(idfname, epwfile)\n",
    "        \n",
    "    idf.run(output_directory=od, readvars=True) #Run the simulation \n",
    "        \n",
    "        #Extract and store the variables you need\n",
    "    cond.append(SimpleGlazingSystem.UFactor)\n",
    "        \n",
    "       \n",
    "    df=pd.read_csv(r'sim\\od\\eplusout.csv', \n",
    "               parse_dates=[0],\n",
    "               index_col=[0],\n",
    "               date_parser=parse_energyplus_datetime_string \n",
    "              ) # the html file you want to read\n",
    "        \n",
    "    dfelec = df.iloc[:, [3]]\n",
    "    dfgas = df.iloc[:, [4]]\n",
    "    dfheat = df.iloc[:, [7]]\n",
    "    dfdhw = df.iloc[:, [8]]\n",
    "    dfpvprod = df.iloc[:, [9]]\n",
    "        \n",
    "    elec = pd.concat([elec, dfelec], axis = 1)\n",
    "    gas = pd.concat([gas, dfgas], axis = 1)\n",
    "    heat = pd.concat([heat, dfheat], axis = 1)\n",
    "    dhw = pd.concat([dhw, dfdhw], axis = 1)\n",
    "    #pvproduction = pd.concat([pvproduction, dfpvprod], axis = 1)"
   ]
  },
  {
   "cell_type": "code",
   "execution_count": null,
   "id": "2899437c-6b58-4a02-b96c-fda793c23361",
   "metadata": {},
   "outputs": [],
   "source": []
  }
 ],
 "metadata": {
  "kernelspec": {
   "display_name": "Python 3",
   "language": "python",
   "name": "python3"
  },
  "language_info": {
   "codemirror_mode": {
    "name": "ipython",
    "version": 3
   },
   "file_extension": ".py",
   "mimetype": "text/x-python",
   "name": "python",
   "nbconvert_exporter": "python",
   "pygments_lexer": "ipython3",
   "version": "3.8.2"
  }
 },
 "nbformat": 4,
 "nbformat_minor": 5
}
