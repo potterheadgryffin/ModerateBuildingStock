{
 "cells": [
  {
   "cell_type": "markdown",
   "id": "4088c0d0",
   "metadata": {},
   "source": [
    "Loading the functions"
   ]
  },
  {
   "cell_type": "code",
   "execution_count": 1,
   "id": "cc13d237",
   "metadata": {},
   "outputs": [],
   "source": [
    "from eppy import modeleditor\n",
    "from eppy.modeleditor import IDF"
   ]
  },
  {
   "cell_type": "markdown",
   "id": "24145e41",
   "metadata": {},
   "source": [
    "Defining the path to the IDD file. This is in the Energyplus Software Package. Use version 9-5-0"
   ]
  },
  {
   "cell_type": "code",
   "execution_count": 2,
   "id": "d6b015b7",
   "metadata": {},
   "outputs": [],
   "source": [
    "from pathlib import Path\n",
    "iddfile = str(Path(\"/softwarestack/apps/EnergyPlus/9.5.0/bin/Energy+.idd\"))\n",
    "IDF.setiddname(iddfile)"
   ]
  },
  {
   "cell_type": "markdown",
   "id": "f7e9bd9b",
   "metadata": {},
   "source": [
    "These are the input files (.idf and .epw). These are attached with this notebook and should be uploaded in your main directory. "
   ]
  },
  {
   "cell_type": "code",
   "execution_count": 3,
   "id": "e9f04907",
   "metadata": {},
   "outputs": [],
   "source": [
    "idfname = 'HPSFD.idf' #\"path to the new idf\"\n",
    "epwfile = 'BrusselsIWEC.epw'"
   ]
  },
  {
   "cell_type": "markdown",
   "id": "cab019f3",
   "metadata": {},
   "source": [
    "Setting the output directory od and combining the idf and epw file"
   ]
  },
  {
   "cell_type": "code",
   "execution_count": 4,
   "id": "aa9cfdcb",
   "metadata": {},
   "outputs": [],
   "source": [
    "od = '.'\n",
    "idf = IDF(idfname, epwfile)"
   ]
  },
  {
   "cell_type": "markdown",
   "id": "46bd64f9",
   "metadata": {},
   "source": [
    "Running the simulations"
   ]
  },
  {
   "cell_type": "code",
   "execution_count": 5,
   "id": "31f2e582",
   "metadata": {},
   "outputs": [
    {
     "name": "stdout",
     "output_type": "stream",
     "text": [
      "\n",
      "/softwarestack/apps/EnergyPlus/9.5.0/bin/energyplus --weather /home/vito/shamsim/BrusselsIWEC.epw --output-directory /home/vito/shamsim --idd /softwarestack/apps/EnergyPlus/9.5.0/bin/Energy+.idd --readvars /home/vito/shamsim/HPSFD_e3bf7f.idf\n",
      "\n",
      "EnergyPlus Starting\n",
      "EnergyPlus, Version 9.5.0-de239b2e5f, YMD=2024.03.04 13:37\n"
     ]
    },
    {
     "name": "stderr",
     "output_type": "stream",
     "text": [
      "Could not find platform independent libraries <prefix>\n",
      "Could not find platform dependent libraries <exec_prefix>\n",
      "Consider setting $PYTHONHOME to <prefix>[:<exec_prefix>]\n"
     ]
    },
    {
     "name": "stdout",
     "output_type": "stream",
     "text": [
      "Initializing Response Factors\n",
      "Calculating CTFs for \"EXTERIOR WALL\"\n",
      "Calculating CTFs for \"INTERIORFURNISHINGS\"\n",
      "Calculating CTFs for \"EXTERIOR FLOOR\"\n",
      "Calculating CTFs for \"INTERIOR FLOOR\"\n",
      "Calculating CTFs for \"INTERIOR CEILING\"\n",
      "Calculating CTFs for \"EXTERIOR ROOF\"\n",
      "Calculating CTFs for \"EXTERIOR DOOR\"\n",
      "Calculating CTFs for \"GABLE_END\"\n",
      "Calculating CTFs for \"CRAWL WALL\"\n",
      "Initializing Window Optical Properties\n",
      "Initializing Solar Calculations\n",
      "Allocate Solar Module Arrays\n",
      "Initializing Zone and Enclosure Report Variables\n",
      "Initializing Surface (Shading) Report Variables\n",
      "Computing Interior Solar Absorption Factors\n",
      "Determining Shadowing Combinations\n",
      "Computing Window Shade Absorption Factors\n",
      "Proceeding with Initializing Solar Calculations\n",
      "Initializing Surfaces\n",
      "Initializing Outdoor environment for Surfaces\n",
      "Setting up Surface Reporting Variables\n",
      "Initializing Temperature and Flux Histories\n",
      "Initializing Window Shading\n",
      "Computing Interior Absorption Factors\n",
      "Computing Interior Diffuse Solar Absorption Factors\n",
      "Initializing Solar Heat Gains\n",
      "Initializing Internal Heat Gains\n",
      "Initializing Interior Solar Distribution\n",
      "Initializing Interior Convection Coefficients\n",
      "Gathering Information for Predefined Reporting\n",
      "Completed Initializing Surface Heat Balance\n",
      "Calculate Outside Surface Heat Balance\n",
      "Calculate Inside Surface Heat Balance\n",
      "Calculate Air Heat Balance\n",
      "Initializing HVAC\n",
      "Warming up\n",
      "Warming up\n",
      "Warming up\n",
      "Warming up\n",
      "Warming up\n",
      "Warming up\n",
      "Performing Zone Sizing Simulation\n",
      "...for Sizing Period: #1 SEATTLE SEATTLE TACOMA INTL A ANN HTG 99.6% CONDNS DB\n",
      "Warming up\n",
      "Warming up\n",
      "Warming up\n",
      "Warming up\n",
      "Warming up\n",
      "Warming up\n",
      "Performing Zone Sizing Simulation\n",
      "...for Sizing Period: #2 SEATTLE SEATTLE TACOMA INTL A ANN CLG .4% CONDNS DB=>MWB\n",
      "Calculating System sizing\n",
      "...for Sizing Period: #1 SEATTLE SEATTLE TACOMA INTL A ANN HTG 99.6% CONDNS DB\n",
      "Calculating System sizing\n",
      "...for Sizing Period: #2 SEATTLE SEATTLE TACOMA INTL A ANN CLG .4% CONDNS DB=>MWB\n",
      "Adjusting Air System Sizing\n",
      "Adjusting Standard 62.1 Ventilation Sizing\n",
      "Initializing Simulation\n",
      "Reporting Surfaces\n",
      "Beginning Primary Simulation\n",
      "Initializing New Environment Parameters\n",
      "Warming up {1}\n",
      "Warming up {2}\n",
      "Warming up {3}\n",
      "Warming up {4}\n",
      "Warming up {5}\n",
      "Warming up {6}\n",
      "Starting Simulation at 01/01/2017 for ANNUAL\n",
      "Updating Shadowing Calculations, Start Date=01/21/2017\n",
      "Continuing Simulation at 01/21/2017 for ANNUAL\n",
      "Updating Shadowing Calculations, Start Date=02/10/2017\n",
      "Continuing Simulation at 02/10/2017 for ANNUAL\n",
      "Updating Shadowing Calculations, Start Date=03/02/2017\n",
      "Continuing Simulation at 03/02/2017 for ANNUAL\n",
      "Updating Shadowing Calculations, Start Date=03/22/2017\n",
      "Continuing Simulation at 03/22/2017 for ANNUAL\n",
      "Updating Shadowing Calculations, Start Date=04/11/2017\n",
      "Continuing Simulation at 04/11/2017 for ANNUAL\n",
      "Updating Shadowing Calculations, Start Date=05/01/2017\n",
      "Continuing Simulation at 05/01/2017 for ANNUAL\n",
      "Updating Shadowing Calculations, Start Date=05/21/2017\n",
      "Continuing Simulation at 05/21/2017 for ANNUAL\n",
      "Updating Shadowing Calculations, Start Date=06/10/2017\n",
      "Continuing Simulation at 06/10/2017 for ANNUAL\n",
      "Updating Shadowing Calculations, Start Date=06/30/2017\n",
      "Continuing Simulation at 06/30/2017 for ANNUAL\n",
      "Updating Shadowing Calculations, Start Date=07/20/2017\n",
      "Continuing Simulation at 07/20/2017 for ANNUAL\n",
      "Updating Shadowing Calculations, Start Date=08/09/2017\n",
      "Continuing Simulation at 08/09/2017 for ANNUAL\n",
      "Updating Shadowing Calculations, Start Date=08/29/2017\n",
      "Continuing Simulation at 08/29/2017 for ANNUAL\n",
      "Updating Shadowing Calculations, Start Date=09/18/2017\n",
      "Continuing Simulation at 09/18/2017 for ANNUAL\n",
      "Updating Shadowing Calculations, Start Date=10/08/2017\n",
      "Continuing Simulation at 10/08/2017 for ANNUAL\n",
      "Updating Shadowing Calculations, Start Date=10/28/2017\n",
      "Continuing Simulation at 10/28/2017 for ANNUAL\n",
      "Updating Shadowing Calculations, Start Date=11/17/2017\n",
      "Continuing Simulation at 11/17/2017 for ANNUAL\n",
      "Updating Shadowing Calculations, Start Date=12/07/2017\n",
      "Continuing Simulation at 12/07/2017 for ANNUAL\n",
      "Updating Shadowing Calculations, Start Date=12/27/2017\n",
      "Continuing Simulation at 12/27/2017 for ANNUAL\n",
      "Writing tabular output file results using HTML format.\n",
      " ReadVarsESO program starting.\n",
      " ReadVars Run Time=00hr 00min  0.68sec\n",
      " ReadVarsESO program completed successfully.\n",
      " ReadVarsESO program starting.\n",
      " ReadVars Run Time=00hr 00min  0.53sec\n",
      " ReadVarsESO program completed successfully.\n",
      "EnergyPlus Run Time=00hr 01min  1.31sec\n"
     ]
    },
    {
     "name": "stderr",
     "output_type": "stream",
     "text": [
      "EnergyPlus Completed Successfully.\n"
     ]
    }
   ],
   "source": [
    "idf.run(output_directory=od, readvars=True) #Run the simulation"
   ]
  },
  {
   "cell_type": "code",
   "execution_count": null,
   "id": "f0df51bb",
   "metadata": {},
   "outputs": [],
   "source": []
  }
 ],
 "metadata": {
  "kernelspec": {
   "display_name": "Python (datascience)",
   "language": "python",
   "name": "datascience"
  },
  "language_info": {
   "codemirror_mode": {
    "name": "ipython",
    "version": 3
   },
   "file_extension": ".py",
   "mimetype": "text/x-python",
   "name": "python",
   "nbconvert_exporter": "python",
   "pygments_lexer": "ipython3",
   "version": "3.8.2"
  }
 },
 "nbformat": 4,
 "nbformat_minor": 5
}
